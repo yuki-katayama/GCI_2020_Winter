{
 "cells": [
  {
   "cell_type": "markdown",
   "metadata": {},
   "source": [
    "# Pythonによる科学計算（Numpy）"
   ]
  },
  {
   "cell_type": "markdown",
   "metadata": {},
   "source": [
    "今回はPythonの数値計算モジュールであるNumpyを用います。Numpyはこの講座を通して用いるので基本的な使い方を学んでいきましょう。\n",
    "\n",
    "ただしこの章で扱うものはNumpyの氷山の一角であり，機械学習という文脈でよく使うもののみです。"
   ]
  },
  {
   "cell_type": "markdown",
   "metadata": {},
   "source": [
    "### 目次\n",
    "\n",
    "**[2.1 Numpyの作法](#2.1-Numpyの作法)**\n",
    "> [2.1.1 PythonのListとnumpy.ndarrayの違い](#2.1.1-PythonのListとnumpy.ndarrayの違い)\\\n",
    "> [2.1.2 numpy.ndarrayの基本的な演算](#2.1.2-numpy.ndarrayの基本的な演算)\\\n",
    "> [2.1.3 練習問題](#2.1.3-練習問題)\n",
    "\n",
    "**[2.2 NumpyのIndex 1](#2.2-NumpyのIndex-1)**\n",
    ">[2.2.1 インデクシングのよる値の取得](#2.2.1-インデクシングのよる値の取得)\\\n",
    ">[2.2.2 スライシング](#2.2.2-スライシング)\\\n",
    ">[2.2.3 ブールインデックス参照](#2.2.3-ブールインデックス参照)\\\n",
    ">[2.2.4 練習問題](#2.2.4-練習問題)\n",
    "\n",
    "**[2.3 Numpyの2次元配列](#2.3-Numpyの2次元配列)**\n",
    ">[2.3.1 2次元配列の作成](#2.3.1-2次元配列の作成)\\\n",
    ">[2.3.2 ユニバーサル関数](#2.3.2-ユニバーサル関数)\\\n",
    ">[2.3.3 axisと集約関数](#2.3.3-axisと集約関数)\\\n",
    ">[2.3.4 練習問題](#2.3.4-練習問題)\n",
    "\n",
    "**[2.4 NumpyのIndex2](#2.4-NumpyのIndex-2)**\n",
    ">[2.4.1 基本](#2.4.1-基本)\\\n",
    ">[2.4.2 スライシング](#2.4.2-スライシング)\\\n",
    ">[2.4.3 ブールインデックス参照](#2.4.3-ブールインデックス参照)\\\n",
    ">[2.4.4 練習問題](#2.4.4-練習問題)\n",
    "\n",
    "**[2.5 Numpyの発展](#2.5-Numpyの発展操作)**\n",
    "> [2.5.1 科学定数](#2.5.1-科学定数)\\\n",
    "> [2.5.2 乱数を値にもつNumpyの配列](#2.5.2-乱数を値にもつNumpyの配列)\\\n",
    "> [2.5.3 線形代数の基本的な計算](#2.5.3-線形代数の基本的な計算)\n",
    "\n",
    "**[2.6 Numpyの学習の仕方](#2.6-Numpyの学習の仕方)**\n",
    ">[2.6.1 プログラミングの調べ方](#2.6.1-プログラミングの調べ方)\\\n",
    ">[2.6.2 練習問題](#2.6.2-練習問題)\n",
    "\n",
    "**[2.7 総合問題](#2.7-総合問題)**"
   ]
  },
  {
   "cell_type": "markdown",
   "metadata": {},
   "source": [
    "この授業で使うライブラリをインポートしておきます。詳細は後々丁寧に解説していきます。"
   ]
  },
  {
   "cell_type": "code",
   "execution_count": null,
   "metadata": {},
   "outputs": [],
   "source": [
    "import numpy as np\n",
    "from numpy import random\n",
    "from numpy import linalg as LA"
   ]
  },
  {
   "cell_type": "markdown",
   "metadata": {},
   "source": [
    "# 2.1 Numpyの作法"
   ]
  },
  {
   "cell_type": "markdown",
   "metadata": {},
   "source": [
    "この節からNumpyに入門していきます。"
   ]
  },
  {
   "cell_type": "markdown",
   "metadata": {},
   "source": [
    "## 2.1.1 PythonのListとnumpy.ndarrayの違い"
   ]
  },
  {
   "cell_type": "markdown",
   "metadata": {},
   "source": [
    "機械学習ではデータをベクトルとして捉え，数学的な計算(行列演算，最適化など)を通して学習をします。このベクトルや行列といったものに対する演算に対して基本的な関数が組み込まれているのがNumpyモジュールとなります。\n",
    "\n",
    "まず，**なぜNumpyを使うのか**を知るために，Python標準の機能とNumpyを比べてみましょう。まず，以下の2つのPython配列を考えます。"
   ]
  },
  {
   "cell_type": "code",
   "execution_count": null,
   "metadata": {},
   "outputs": [],
   "source": [
    "a = [2, 9, 9, 7, 9, 2]\n",
    "b = [3, 1, 4, 1, 5, 9]"
   ]
  },
  {
   "cell_type": "markdown",
   "metadata": {},
   "source": [
    "この2つの配列を6次元の横ベクトルとして操作することを考えます。例えばこのベクトルに対して，内積やaとbの各成分の和を取ったベクトルを計算する場合，Pythonでは次のように書く必要があります。"
   ]
  },
  {
   "cell_type": "code",
   "execution_count": null,
   "metadata": {},
   "outputs": [],
   "source": [
    "# 内積\n",
    "def dot_product(a, b):\n",
    "    assert len(a)==len(b) # aとbの長さが同じでないときエラーを返すようにする\n",
    "    \n",
    "    ab = 0\n",
    "    for i in range(len(a)):\n",
    "        ab += a[i]*b[i] \n",
    "    \n",
    "    return ab\n",
    "\n",
    "def add_vector(a, b):\n",
    "    assert len(a)==len(b) # aとbの長さが同じでないときエラーを返すようにする\n",
    "   \n",
    "    add_ab = [a[i]+b[i] for i in range(len(a))]\n",
    "              \n",
    "    return add_ab"
   ]
  },
  {
   "cell_type": "code",
   "execution_count": null,
   "metadata": {},
   "outputs": [],
   "source": [
    "print(\"内積:\", dot_product(a, b))\n",
    "print(\"和:\", add_vector(a, b))"
   ]
  },
  {
   "cell_type": "markdown",
   "metadata": {},
   "source": [
    "しかし，Numpyにはすでにこれらの関数や演算が実装されています。実際に使ってみましょう。"
   ]
  },
  {
   "cell_type": "code",
   "execution_count": null,
   "metadata": {},
   "outputs": [],
   "source": [
    "import numpy as np # numpyをimportする"
   ]
  },
  {
   "cell_type": "markdown",
   "metadata": {},
   "source": [
    "風習として，numpyはnpと省略して使います。本講座でもそれに則ります。\n",
    "\n",
    "Numpyでは`np.ndarray`という配列が用意されています。これはN次元配列といい，ベクトルや行列・それ以上の次元の配列(テンソル)に対して統一して用意された型です。\n",
    "\n",
    "PythonのListは`np.array()`という関数を用いて簡単に`np.ndarray`に変換できます。"
   ]
  },
  {
   "cell_type": "code",
   "execution_count": null,
   "metadata": {},
   "outputs": [],
   "source": [
    "a = np.array(a)\n",
    "b = np.array(b)\n",
    "\n",
    "print(\"a: \", a)\n",
    "print(\"b: \", b)\n",
    "print(\"type of a: \", type(a))\n",
    "print(\"type of b: \", type(b)) # aとbの型を確認する"
   ]
  },
  {
   "cell_type": "markdown",
   "metadata": {},
   "source": [
    "`a`と`b`の転置と内積は次のように計算されます。"
   ]
  },
  {
   "cell_type": "code",
   "execution_count": null,
   "metadata": {},
   "outputs": [],
   "source": [
    "print(\"内積:\", np.dot(a, b))\n",
    "print(\"和:\", a+b)"
   ]
  },
  {
   "cell_type": "markdown",
   "metadata": {},
   "source": [
    "このように，Numpyではすでに基本的な操作や関数が充実しており，Pythonでわざわざ実装しなくてよいのです。"
   ]
  },
  {
   "cell_type": "markdown",
   "metadata": {},
   "source": [
    "### *Tips*\n",
    "> 実は他にNumpyを使う大きなメリットがあります。それは**実行時間**という観点です。Numpyの内部ではC言語によって記述されていて，また行列演算にはBLAS APIという高性能の行列演算ライブラリを用いているのでPythonとは比べ物にならないくらい高速となります。"
   ]
  },
  {
   "cell_type": "markdown",
   "metadata": {},
   "source": [
    "## 2.1.2 numpy.ndarrayの基本的な演算"
   ]
  },
  {
   "cell_type": "markdown",
   "metadata": {},
   "source": [
    "ここでは上で用いた`a`, `b`とは別に新しいものを使用します。`np.ndarray`に変換するのを忘れないように！"
   ]
  },
  {
   "cell_type": "code",
   "execution_count": null,
   "metadata": {},
   "outputs": [],
   "source": [
    "a = np.array([1, 2, 3, 4, 5])\n",
    "b = np.array([2, 2, 3, 6, 0])"
   ]
  },
  {
   "cell_type": "markdown",
   "metadata": {},
   "source": [
    "このセクションでは`np.ndarray`の基本的な演算を紹介していきます。\n",
    "\n",
    "ここでNumpyの演算の基本は**ユニバーサルに**です。ここでのユニバーサルな演算とは，配列の各要素に個別に演算を適用することを指します。実際に例を見て実感していきましょう。"
   ]
  },
  {
   "cell_type": "markdown",
   "metadata": {},
   "source": [
    "### 四則演算\n",
    "\n",
    "四則演算は通常のPythonの数値型と同じ記号によって計算できます。これは各要素の四則演算を返します(**ユニバーサル！**)。"
   ]
  },
  {
   "cell_type": "code",
   "execution_count": null,
   "metadata": {},
   "outputs": [],
   "source": [
    "print(\"和: \", a + b) #これは通常のベクトルの和と一致\n",
    "print(\"差: \", a - b) #これは通常のベクトルの差と一致\n",
    "print(\"積: \", a * b) #これはベクトルの各要素の積(=アダマール積とかいう)\n",
    "print(\"商: \", a / b) #これはベクトルの各要素の商\n",
    "print(\"累乗:\", a**2)"
   ]
  },
  {
   "cell_type": "markdown",
   "metadata": {},
   "source": [
    "### *Tips*\n",
    ">商では，ゼロ除算をしてしまったために`inf`というものが現れています。これは`np.inf`というnumpyで定義された特殊な数で無限大に相当します。また，ゼロ除算が起きたことを警告する文章が出ています。\\\n",
    ">今後この講座で扱うsci-kit learnなどのライブラリの一部の関数などは`np.inf`が含まれているとエラーを出すものがあります。"
   ]
  },
  {
   "cell_type": "markdown",
   "metadata": {},
   "source": [
    "### 条件演算"
   ]
  },
  {
   "cell_type": "markdown",
   "metadata": {},
   "source": [
    "Pythonの通常の条件演算(`==`や`>`など)によってbool値(`True`とか`False`)が返ってきていました。`np.ndarray`ではどのようになるでしょうか？試しにやってみましょう(jupyter notebookのよいところは気になったことをすぐに試せるところです)。"
   ]
  },
  {
   "cell_type": "code",
   "execution_count": null,
   "metadata": {},
   "outputs": [],
   "source": [
    "3>5"
   ]
  },
  {
   "cell_type": "code",
   "execution_count": null,
   "metadata": {},
   "outputs": [],
   "source": [
    "print(\"a==a: \", a==a)\n",
    "print(\"a==b: \", a==b)\n",
    "print(\"a>b: \", a>b)\n",
    "\n",
    "print(\"a==bの型: \", type(a==b))"
   ]
  },
  {
   "cell_type": "markdown",
   "metadata": {},
   "source": [
    "なんと，`np.ndarray`では条件演算によって返ってくる値はbool値ではなく，**bool値を要素とする`np.ndarray`**となるのです。\n",
    "\n",
    "そして，各要素を見てみると，各要素に対して条件演算をした結果が入っていることになります(**ユニバーサル！**)。ここもPythonのListとは違う結果です。"
   ]
  },
  {
   "cell_type": "markdown",
   "metadata": {},
   "source": [
    "### その他のユニバーサルな演算，関数\n",
    "他にも数学的な関数をユニバーサルに計算してくれるものが実装されています。以下ではその例を紹介します。ユニバーサルな関数一覧は[こちら](https://docs.pyq.jp/python/pydata/numpy/universal_function.html)を参考にしてください。"
   ]
  },
  {
   "cell_type": "code",
   "execution_count": null,
   "metadata": {},
   "outputs": [],
   "source": [
    "print(\"sin: \", np.sin(a))\n",
    "print(\"log: \", np.log(a))\n",
    "print(\"exp: \", np.exp(a))"
   ]
  },
  {
   "cell_type": "markdown",
   "metadata": {},
   "source": [
    "### ブロードキャスト\n",
    "`np.ndarray`ではユニバーサルな演算に付随して，ブロードキャストというものがあります。ここでは，1次元配列(ベクトル)に対するブロードキャストを学びます。\n",
    "\n",
    "ベクトルでは実数倍というものが定義されていました。実際Numpyでは実数倍をすることができます。"
   ]
  },
  {
   "cell_type": "code",
   "execution_count": null,
   "metadata": {},
   "outputs": [],
   "source": [
    "print(\"3a = \", 3*a)"
   ]
  },
  {
   "cell_type": "markdown",
   "metadata": {},
   "source": [
    "これは，次の計算をしていることと同義です。"
   ]
  },
  {
   "cell_type": "code",
   "execution_count": null,
   "metadata": {},
   "outputs": [],
   "source": [
    "threes = np.array([3, 3, 3, 3, 3])\n",
    "print(\"3a = \", threes*a)"
   ]
  },
  {
   "cell_type": "markdown",
   "metadata": {},
   "source": [
    "実はNumpyでは長さや次元の異なる2つの配列に対してユニバーサルな二項演算をする場合，どちらか一方を他方と次元や長さを自動的に揃えて計算をします。これをブロードキャストと呼びます。\n",
    "\n",
    "上の例でどのようなブロードキャストが起きているか考察してみましょう。`3`は`int`型であり，Numpyはこれを0次元配列(スカラー)とみなします。しかし1次元で長さ5の`np.ndarray`である`a`とユニバーサルな二項演算`*`を計算するためには，`a`ではない方が1次元で長さ5である必要があります。\n",
    "\n",
    "ここで，Numpyはまず自動的に`3`を0次元配列の`np.array(3)`に変換します。そのあと次元を揃えるために1次元配列`np.array([3])`に変換します。そして長さを揃えるために`np.array([3])`を`np.array([3, 3, 3, 3, 3])`というように同じ値を繰り返したものに自動で変換することで計算できるようになっています。\n",
    "\n",
    "では以下の2つの1次元配列の2項演算を行った場合，どうなるでしょうか？"
   ]
  },
  {
   "cell_type": "code",
   "execution_count": null,
   "metadata": {
    "scrolled": true
   },
   "outputs": [],
   "source": [
    "c = np.array([1, 2, 3, 4, 5])\n",
    "d = np.array([1, 2, 3])\n",
    "\n",
    "print(c * d)"
   ]
  },
  {
   "cell_type": "markdown",
   "metadata": {},
   "source": [
    "ここではエラーが出てしまいます。ブロードキャストでは，次元を揃えて長さを揃える際に，長さが1でないと繰り返して長さを揃えることがことができません。"
   ]
  },
  {
   "cell_type": "markdown",
   "metadata": {},
   "source": [
    "### 基本的な関数\n",
    "PythonのListにはmaxやsumなどの関数が組み込まれていました。`np.ndarray`では以下のようになります。"
   ]
  },
  {
   "cell_type": "code",
   "execution_count": null,
   "metadata": {},
   "outputs": [],
   "source": [
    "print(\"max: \", np.max(a))\n",
    "print(\"sum: \", np.sum(a))\n",
    "print(\"mean: \", np.mean(a)) # meanは平均値\n",
    "print(\"std: \", np.std(a)) # stdは標準偏差"
   ]
  },
  {
   "cell_type": "markdown",
   "metadata": {},
   "source": [
    "また，PythonのListでは`+`によって結合をしていましたが，`np.ndarray`では`+`は別ですでに組み込まれているため次のように計算します。"
   ]
  },
  {
   "cell_type": "code",
   "execution_count": null,
   "metadata": {},
   "outputs": [],
   "source": [
    "print(\"aとbの連結: \", np.r_[a, b])"
   ]
  },
  {
   "cell_type": "markdown",
   "metadata": {},
   "source": [
    "また，1次元配列の長さはPythonと同様にlen()によって求められます。"
   ]
  },
  {
   "cell_type": "code",
   "execution_count": null,
   "metadata": {},
   "outputs": [],
   "source": [
    "print(\"aの長さ: \", len(a))"
   ]
  },
  {
   "cell_type": "markdown",
   "metadata": {},
   "source": [
    "最後に，`np.ndarray`からPythonのListに変換するにはlist()を用います。"
   ]
  },
  {
   "cell_type": "code",
   "execution_count": null,
   "metadata": {},
   "outputs": [],
   "source": [
    "a_list = list(a)\n",
    "\n",
    "print(a_list)\n",
    "print(type(a_list))"
   ]
  },
  {
   "cell_type": "markdown",
   "metadata": {},
   "source": [
    "## 2.1.3 練習問題"
   ]
  },
  {
   "cell_type": "markdown",
   "metadata": {},
   "source": [
    "**問1** \\\n",
    "(1) 1次元であなたの好きな値を要素にもつ同じ長さの`np.ndarray`を2つ作成し，`type()`関数を用いて`np.ndarray`になっていることを確認してください。\\\n",
    "(2) (1)で作成した2つの1次元配列に対して四則演算を行ってください。"
   ]
  },
  {
   "cell_type": "code",
   "execution_count": null,
   "metadata": {},
   "outputs": [],
   "source": [
    "# (1)\n",
    "# WRITE ME"
   ]
  },
  {
   "cell_type": "code",
   "execution_count": null,
   "metadata": {},
   "outputs": [],
   "source": [
    "# (2)\n",
    "# WRITE ME"
   ]
  },
  {
   "cell_type": "markdown",
   "metadata": {},
   "source": [
    "**問２**\\\n",
    "1次元配列を一つ入力とし，出力が入力を規格化した1次元配列となるような関数を作成してください。ここで，ベクトルの規格化とは元々のベクトルとは並行で，全ての要素の和が1となるようにすることです。このとき，Numpyの**ユニバーサルな演算や関数のみ**を用いて実装してください。"
   ]
  },
  {
   "cell_type": "code",
   "execution_count": null,
   "metadata": {},
   "outputs": [],
   "source": [
    "def normalize(a):\n",
    "    # WRITE ME\n",
    "    return a"
   ]
  },
  {
   "cell_type": "markdown",
   "metadata": {},
   "source": [
    "# 2.2 NumpyのIndex 1"
   ]
  },
  {
   "cell_type": "markdown",
   "metadata": {},
   "source": [
    "このセクションでは`np.ndarray`の特に一次元配列(ベクトル)におけるIndexを用いて部分配列をとる方法を学びます。"
   ]
  },
  {
   "cell_type": "markdown",
   "metadata": {},
   "source": [
    "## 2.2.1 インデクシングのよる値の取得\n",
    "PythonのListでは`[]`を使うことによって，任意の位置の値をとってくることができました。これはNumpyの1次元配列でも同じです。このとき，インデックスは0からスタートするので注意しましょう。"
   ]
  },
  {
   "cell_type": "code",
   "execution_count": null,
   "metadata": {},
   "outputs": [],
   "source": [
    "a = np.array([2, 9, 9, 7, 9, 2, 4, 5, 8])\n",
    "\n",
    "print(\"aの前から4番目の値はa[3]=\", a[3])"
   ]
  },
  {
   "cell_type": "markdown",
   "metadata": {},
   "source": [
    "インデックスにおけるマイナスはListの後ろから数えることに相当します。ここで，Listの頭から数えるインデックスは0からスタートするのに対し，後ろから数えるのは-1からスタートするので注意しましょう。例えば，`a`の前から4番目は`a[3]`で取得しましたが，後ろから4番目は以下のように取得します。"
   ]
  },
  {
   "cell_type": "code",
   "execution_count": null,
   "metadata": {},
   "outputs": [],
   "source": [
    "print(\"aの後ろから4番目の値はa[-4]=\", a[-4])"
   ]
  },
  {
   "cell_type": "markdown",
   "metadata": {},
   "source": [
    "また，PythonのListとNumpyの1次元配列との間には違いがあります。PythonのListのインデックスに使用できるのは整数値と次の章で説明するスライスのみですが，Numpy配列は複数のインデックスをリストにして指定することで複数の値を同時に取得できます。"
   ]
  },
  {
   "cell_type": "code",
   "execution_count": null,
   "metadata": {},
   "outputs": [],
   "source": [
    "print(a[[1, 3, 0, 6]])\n",
    "\n",
    "# いったん別の変数に保存しておくこともできる\n",
    "ids = [1, 3, 0, 6]\n",
    "print(a[ids])"
   ]
  },
  {
   "cell_type": "markdown",
   "metadata": {},
   "source": [
    "## 2.2.2 スライシング\n",
    "ここではNumpy配列のスライシングを学習します。その前に，一度Pythonのリストにおけるスライシングを復習しましょう。"
   ]
  },
  {
   "cell_type": "markdown",
   "metadata": {},
   "source": [
    "PythonのListではスライシングは`start: end: step`という形式をしていました。これは，Listから取り出すインデックスを初項`start`，公差`step`の等差数列で終項が`end`未満で最大の数になるように取り出します。"
   ]
  },
  {
   "cell_type": "code",
   "execution_count": null,
   "metadata": {},
   "outputs": [],
   "source": [
    "a = list(range(30)) # 1~30を要素にもつList\n",
    "print(a[2: 15: 3])"
   ]
  },
  {
   "cell_type": "markdown",
   "metadata": {},
   "source": [
    "ここで，`start`, `end`, `step`はそれぞれ省略することが可能で，省略した場合は`start=0`, `end=-1`, `step=1`となります（`step`がマイナスになると，逆向きに値を取得します）。"
   ]
  },
  {
   "cell_type": "code",
   "execution_count": null,
   "metadata": {},
   "outputs": [],
   "source": [
    "print(\"startを省略した場合:\", end='\\t')\n",
    "print(a[: 15: 3])\n",
    "\n",
    "print(\"endを省略した場合:\", end='\\t')\n",
    "print(a[2: : 3])\n",
    "\n",
    "print(\"stepを省略した場合1:\", end='\\t')\n",
    "print(a[2: 15:])\n",
    "# 最後の:は省略できる\n",
    "print(\"stepを省略した場合2:\", end='\\t')\n",
    "print(a[2: 15])\n",
    "\n",
    "print(\"stepとendを省略した場合:\", end='\\t')\n",
    "print(a[2:])"
   ]
  },
  {
   "cell_type": "code",
   "execution_count": null,
   "metadata": {},
   "outputs": [],
   "source": [
    "print(\"stepがマイナスの場合:\", end='\\t')\n",
    "print(a[15: 2: -3])"
   ]
  },
  {
   "cell_type": "markdown",
   "metadata": {},
   "source": [
    "それではNumpyにおけるスライシングを考えていきます。実は，Numpyの1次元配列はListと同じように`start: end: step`でスライシングをすることができます。"
   ]
  },
  {
   "cell_type": "code",
   "execution_count": null,
   "metadata": {},
   "outputs": [],
   "source": [
    "a = np.arange(30) # np.arange(30)はnp.array(range(30))と等価\n",
    "print(a[2: 15: 3])\n",
    "print(type(a[2: 15: 3]))"
   ]
  },
  {
   "cell_type": "code",
   "execution_count": null,
   "metadata": {},
   "outputs": [],
   "source": [
    "print(\"startを省略した場合:\", end='\\t')\n",
    "print(a[: 15: 3])\n",
    "\n",
    "print(\"endを省略した場合:\", end='\\t')\n",
    "print(a[2: : 3])\n",
    "\n",
    "print(\"stepを省略した場合1:\", end='\\t')\n",
    "print(a[2: 15:])\n",
    "# 最後の:は省略できる\n",
    "print(\"stepを省略した場合2:\", end='\\t')\n",
    "print(a[2: 15])\n",
    "\n",
    "print(\"stepとendを省略した場合:\", end='\\t')\n",
    "print(a[2:])"
   ]
  },
  {
   "cell_type": "code",
   "execution_count": null,
   "metadata": {},
   "outputs": [],
   "source": [
    "print(\"stepがマイナスの場合:\", end='\\t')\n",
    "print(a[15: 2: -3])"
   ]
  },
  {
   "cell_type": "markdown",
   "metadata": {},
   "source": [
    "## 2.2.3 ブールインデックス参照"
   ]
  },
  {
   "cell_type": "markdown",
   "metadata": {},
   "source": [
    "ここでは，Numpyのインデックス操作でもかなり便利なブールインデックス参照を学習します。\n",
    "\n",
    "1次元配列のブールインデックス参照とは次のようなものです：\n",
    "- 1次元配列のインデックスに，同じ長さで値がboolとなる1次元配列やListを指定すると，Trueに対応する部分だけを取り出した1次元配列を返す。\n",
    "\n",
    "実際に例を見てみましょう。"
   ]
  },
  {
   "cell_type": "code",
   "execution_count": null,
   "metadata": {},
   "outputs": [],
   "source": [
    "a = np.array([1, 1, 2, 3, 5, 8, 13, 21])\n",
    "\n",
    "# bool値をもつListを作成\n",
    "idx = [True, False, False, True, False, True, True, False]\n",
    "\n",
    "# ブールインデックス参照\n",
    "print(a[idx])"
   ]
  },
  {
   "cell_type": "markdown",
   "metadata": {},
   "source": [
    "また，[2.1.2](2.1.2-numpy.ndarrayの基本的な演算)の条件演算子を使うと次のようなこともできます。"
   ]
  },
  {
   "cell_type": "code",
   "execution_count": null,
   "metadata": {},
   "outputs": [],
   "source": [
    "# aのうち，3の倍数となっているところをTrue, そうでないところをFalseにするブールインデックス\n",
    "idx = (a % 3 == 0) # %はあまりを計算する演算子で，ユニバーサル\n",
    "print(\"ブールインデックス:\", idx)\n",
    "\n",
    "# aのうち3の倍数となるものを取得\n",
    "print(\"aの要素で3の倍数であるもの:\", a[idx])"
   ]
  },
  {
   "cell_type": "markdown",
   "metadata": {},
   "source": [
    "## 2.2.4 練習問題"
   ]
  },
  {
   "cell_type": "markdown",
   "metadata": {},
   "source": [
    "**問1** インデキシングの基礎\\\n",
    "あなたが作成した任意の配列に対して，前から一番目と後ろから一番目の値を取得して表示してください。"
   ]
  },
  {
   "cell_type": "code",
   "execution_count": null,
   "metadata": {},
   "outputs": [],
   "source": [
    "a = np.array([])\n",
    "print(\"前から一番目の値:\")\n",
    "\n",
    "print(\"後ろから一番目の値:\")"
   ]
  },
  {
   "cell_type": "markdown",
   "metadata": {},
   "source": [
    "**問2** ブールインデックス参照 \\\n",
    "(1) 整数値を値にもつNumpyの1次元配列を引数として，奇数または4で割って2余るような配列の値を列挙する関数を実装してください。\\\n",
    "(2) 正の整数を引数として，その数より小さい正の平方数の個数をブールインデックス参照を用いて求める関数を実装してください(ヒント:十分な数の正の平方数を小さい順に列挙し，その中で引数より小さいものを数える)。"
   ]
  },
  {
   "cell_type": "code",
   "execution_count": null,
   "metadata": {},
   "outputs": [],
   "source": [
    "# (1)\n",
    "def make_bool_ids(a):\n",
    "    # WRITE ME\n",
    "    return b # b is `np.ndarray`"
   ]
  },
  {
   "cell_type": "code",
   "execution_count": null,
   "metadata": {},
   "outputs": [],
   "source": [
    "# 入力例\n",
    "a = np.array([1, 1, 2, 2, 3, 3, 4, 4, 5, 5])\n",
    "# 出力例\n",
    "# np.array([1, 1, 2, 2, 3, 3, 5, 5])"
   ]
  },
  {
   "cell_type": "code",
   "execution_count": null,
   "metadata": {},
   "outputs": [],
   "source": [
    "# (2)\n",
    "def count_square(n):\n",
    "    # WRITE ME\n",
    "    return answer"
   ]
  },
  {
   "cell_type": "code",
   "execution_count": null,
   "metadata": {},
   "outputs": [],
   "source": [
    "# 入力例\n",
    "n = 20\n",
    "# 出力例\n",
    "# 20未満の正の平方数は1, 4, 9, 16\n",
    "# 4"
   ]
  },
  {
   "cell_type": "markdown",
   "metadata": {},
   "source": [
    "## 2.3 Numpyの2次元配列\n",
    "この章では1次元配列からさらに発展して2次元配列を扱います。これは数学における行列と対応するものです。\n",
    "\n",
    "この講座の機械学習部分では主に2次元配列までしか扱わないため，3次元以上はここには書きませんが，1次元配列→2次元配列の違いを覚えておけば3次元以上も同様に対応することができます。\n",
    "\n",
    "機械学習では，縦軸に顧客や商品などの1レコードを，横軸にその詳細(特徴量)を格納した2次元配列を扱うことになります。この章で扱う内容は特に基本なのでマスターしましょう。"
   ]
  },
  {
   "cell_type": "markdown",
   "metadata": {},
   "source": [
    "### 2.3.1 2次元配列の作成"
   ]
  },
  {
   "cell_type": "markdown",
   "metadata": {},
   "source": [
    "実際に2次元配列を作成してみましょう。これも1次元配列と同じく，`np.array()`を用います。\n",
    "\n",
    "**(注)以下では$n\\times m$行列や$(n, m)$行列と書けば$n$が縦軸の長さ，$m$が横軸の長さを指します。**"
   ]
  },
  {
   "cell_type": "code",
   "execution_count": null,
   "metadata": {},
   "outputs": [],
   "source": [
    "# 3*2行列を作ってみる\n",
    "# 3*2のListを変換する\n",
    "a = np.array(\n",
    "    [[1, 2],\n",
    "    [3, 4],\n",
    "    [5, 6]])\n",
    "print(a)\n",
    "print(\"shape: \", a.shape) # 配列aの形(shape)を表すタプルを返す"
   ]
  },
  {
   "cell_type": "markdown",
   "metadata": {},
   "source": [
    "二次元のListを作って`np.array()`をするのではかなり面倒です。そこで，予め1次元配列を作った上で`np.ndarray.reshape()`という関数を使って2次元配列に整形することができます。"
   ]
  },
  {
   "cell_type": "code",
   "execution_count": null,
   "metadata": {},
   "outputs": [],
   "source": [
    "a = np.array([1, 2, 3, 4, 5, 6])\n",
    "a = a.reshape(3, 2)\n",
    "print(a)\n",
    "print(\"shape: \", a.shape)"
   ]
  },
  {
   "cell_type": "markdown",
   "metadata": {},
   "source": [
    "このように，引数に変形後の形(shape)を渡すと，そのようなshapeに変形してくれることがわかります。また，reshapeは要素数が変わるような整形を行うことができません。例えば，以下のような場合はエラーを返します。"
   ]
  },
  {
   "cell_type": "code",
   "execution_count": null,
   "metadata": {},
   "outputs": [],
   "source": [
    "a = np.array([1, 2, 3, 4, 5, 6])\n",
    "a = a.reshape(3, 1) # 6この要素を持つ配列は3*1個の要素を持つ配列に整形できない"
   ]
  },
  {
   "cell_type": "markdown",
   "metadata": {},
   "source": [
    "また，指定するshapeのうち一つの要素を`-1`にすることで，自動で整形してくれます。"
   ]
  },
  {
   "cell_type": "code",
   "execution_count": null,
   "metadata": {},
   "outputs": [],
   "source": [
    "a = np.array([1, 2, 3, 4, 5, 6])\n",
    "a = a.reshape(3, -1)\n",
    "print(a)\n",
    "print(\"shape: \", a.shape)"
   ]
  },
  {
   "cell_type": "code",
   "execution_count": null,
   "metadata": {},
   "outputs": [],
   "source": [
    "a = np.array([1, 2, 3, 4, 5, 6])\n",
    "a = a.reshape(4, -1) # 6は4を約数にもたないのでエラー"
   ]
  },
  {
   "cell_type": "markdown",
   "metadata": {},
   "source": [
    "### 四則演算"
   ]
  },
  {
   "cell_type": "markdown",
   "metadata": {},
   "source": [
    "これは1次元の場合と全く同様の方法で行列の四則演算をすることができます。ただし，積と商は各要素ごとの計算をする(ユニバーサル！)ので本来の行列積とは異なります。また，前節のブロードキャストも同じルールで適用されます。"
   ]
  },
  {
   "cell_type": "code",
   "execution_count": null,
   "metadata": {},
   "outputs": [],
   "source": [
    "a = np.array([1, 2, 3, 4, 5, 6]).reshape(3, -1)\n",
    "b = np.array([1, 1, 2, 3, 5, 8]).reshape(3, -1)\n",
    "\n",
    "print(\"和: \", a + b) #これは通常のベクトルの和と一致\n",
    "print(\"差: \", a - b) #これは通常のベクトルの差と一致\n",
    "print(\"積: \", a * b) #これはベクトルの各要素の積(=アダマール積とかいう)\n",
    "print(\"商: \", a / b) #これはベクトルの各要素の商\n",
    "print(\"累乗:\", a**2)"
   ]
  },
  {
   "cell_type": "markdown",
   "metadata": {},
   "source": [
    "### 2.3.2 ユニバーサル関数"
   ]
  },
  {
   "cell_type": "markdown",
   "metadata": {},
   "source": [
    "前節ではユニバーサル関数を扱っていました。ユニバーサルとは**要素ごとに**関数を適用するというものでした。これは二次元配列でも同じように計算できます。"
   ]
  },
  {
   "cell_type": "code",
   "execution_count": null,
   "metadata": {},
   "outputs": [],
   "source": [
    "a = np.array([1, 1, 2, 3, 5, 8])\n",
    "a = a.reshape(3, 2)\n",
    "\n",
    "print(a)\n",
    "print(\"各要素の指数関数を計算: \", np.exp(a))"
   ]
  },
  {
   "cell_type": "markdown",
   "metadata": {},
   "source": [
    "### 2.3.3 axisと集約関数"
   ]
  },
  {
   "cell_type": "markdown",
   "metadata": {},
   "source": [
    "Numpyの2次元配列では先ほどまで，行と列のことを縦軸や横軸と呼んでいました。しかしさらに高次元の配列になるとこのような名前の付け方は不可能になってきます。そこで，これからは軸のことを`axis`と呼び，番号をつけます。例えば2次元配列では縦軸は`axis 0`，横軸は`axis 1`となります。"
   ]
  },
  {
   "cell_type": "markdown",
   "metadata": {},
   "source": [
    "前節で扱った平均値`np.mean()`や最大値`np.max()`などの，複数の値に対して一つ値を返す関数を思い出します(集約関数などと呼ばれます)。これらをそのまま，2次元配列に適用すると次のようになります。"
   ]
  },
  {
   "cell_type": "code",
   "execution_count": null,
   "metadata": {},
   "outputs": [],
   "source": [
    "a = np.array([1, 1, 2, 3, 5, 8])\n",
    "a = a.reshape(3, 2)\n",
    "\n",
    "print(a)\n",
    "print(\"最大値: \", np.max(a))"
   ]
  },
  {
   "cell_type": "markdown",
   "metadata": {},
   "source": [
    "すなわち，集約関数はそのまま適用すると，全体に対して一つの値を返します。今回の場合，$3\\times2$行列の6個の全ての値の中から最大のものをとってきています。これはreshapeを行う前の配列に対して集約関数を適用するのと変わらないため， \"shapeを忘却している\"ことになります。\n",
    "\n",
    "しかし，これはあまり実用的な操作ではありません。現実には，2次元配列に対して，各軸を固定してその軸に沿って集約を施したいことが往々にあります。\n",
    "次の例を考えてみましょう。"
   ]
  },
  {
   "cell_type": "markdown",
   "metadata": {},
   "source": [
    "今から考える2次元配列には4人の生徒の3回分の数学のテストの点数を格納することにします。このとき，axis 0は生徒でaxis 1はテストの各回の点数となる`shape=(4, 3)`の2次元配列を考えます(点数は適当):"
   ]
  },
  {
   "cell_type": "code",
   "execution_count": null,
   "metadata": {},
   "outputs": [],
   "source": [
    "a = np.array([88, 78, 76, 98, 88, 100, 64, 78, 77, 89, 67, 78]).reshape(4, 3)\n",
    "print(a)"
   ]
  },
  {
   "cell_type": "markdown",
   "metadata": {},
   "source": [
    "この生徒に対して，全体の最高点を求めるには先ほどと同じ方法で良いのですが，そのほかにも「①各テストにおける最高点」「②各生徒の最高点」を求めたくなるはずです。そこで，Numpyの集約関数には引数に`axis`というオプション変数があり，ここに関数を適用したいaxisを指定することができます。"
   ]
  },
  {
   "cell_type": "code",
   "execution_count": null,
   "metadata": {},
   "outputs": [],
   "source": [
    "print(\"①: \", np.max(a, axis=0))\n",
    "print(\"②: \", np.max(a, axis=1))"
   ]
  },
  {
   "cell_type": "markdown",
   "metadata": {},
   "source": [
    "また，ここでは引数が2次元配列ですが，計算は1つの軸に沿って行うので返り値が1次元配列になってしまいます。場合によっては同じ二次元配列のまま返り値が欲しいこともあります。その場合はオプション変数の`keepdims`に`True`を指定します。この結果を見ると，集約する前後で**各axisの意味が変わっていない**ことがわかります。"
   ]
  },
  {
   "cell_type": "code",
   "execution_count": null,
   "metadata": {},
   "outputs": [],
   "source": [
    "print(\"①: \", np.max(a, axis=0, keepdims=True))\n",
    "print(\"②: \", np.max(a, axis=1, keepdims=True))"
   ]
  },
  {
   "cell_type": "markdown",
   "metadata": {},
   "source": [
    "### 2.3.4 練習問題"
   ]
  },
  {
   "cell_type": "markdown",
   "metadata": {},
   "source": [
    "**問1**\n",
    "(1) 5人の生徒の4回分のテストの点数の結果を100点満点で2次元配列に格納してください。このとき，axis 0を生徒でaxis 1をテストの各回だとします。また，値は任意であるとします。\n",
    "\n",
    "(2) それぞれの生徒の4回分のテスト結果の最高点・最低点・平均・分散をそれぞれ計算してください。その結果をaxis 0が生徒， axis 1が集約結果(最高点・最低点・平均・分散)となる2次元配列にしてください。\n",
    "\n",
    "(3) 各テストの点数について，その点数がその生徒の平均点から絶対値で何点差かを求めた`shape=(5, 4)`の2次元配列を計算してください。"
   ]
  },
  {
   "cell_type": "code",
   "execution_count": null,
   "metadata": {},
   "outputs": [],
   "source": [
    "# (1)"
   ]
  },
  {
   "cell_type": "code",
   "execution_count": null,
   "metadata": {},
   "outputs": [],
   "source": [
    "# (2)"
   ]
  },
  {
   "cell_type": "code",
   "execution_count": null,
   "metadata": {},
   "outputs": [],
   "source": [
    "# (3)"
   ]
  },
  {
   "cell_type": "markdown",
   "metadata": {},
   "source": [
    "## 2.4 NumpyのIndex 2"
   ]
  },
  {
   "cell_type": "markdown",
   "metadata": {},
   "source": [
    "この章では2次元配列のIndexを学んで行きます。"
   ]
  },
  {
   "cell_type": "markdown",
   "metadata": {},
   "source": [
    "### 2.4.1 基本"
   ]
  },
  {
   "cell_type": "code",
   "execution_count": null,
   "metadata": {},
   "outputs": [],
   "source": [
    "a_list = [[1, 2, 3, 4],\n",
    "    [5, 6, 7, 8],\n",
    "    [9, 1, 2, 3]]\n",
    "a = np.array(a_list)\n",
    "\n",
    "# 0行目を取得\n",
    "print(\"a_list[0]=\", a_list[0])\n",
    "print(\"a[0]=\", a[0])\n",
    "\n",
    "# (0, 1)成分を取得\n",
    "print(\"a_list[0][1]=\", a_list[0][1])\n",
    "print(\"a[0][1]=\", a[0][1])"
   ]
  },
  {
   "cell_type": "markdown",
   "metadata": {},
   "source": [
    "このように，基本的にはListとNumpyの2次元配列は同じように操作することができます。また，Numpyの配列ではIndexを`a[axis 0, axis 1]`のように1つの`[]`で書くことができます。"
   ]
  },
  {
   "cell_type": "code",
   "execution_count": null,
   "metadata": {},
   "outputs": [],
   "source": [
    "# a[0][1]とa[0, 1]は同じ\n",
    "print(\"a[0][1]=\", a[0][1])\n",
    "print(\"a[0, 1]=\", a[0, 1])"
   ]
  },
  {
   "cell_type": "markdown",
   "metadata": {},
   "source": [
    "また，1つのaxisのindexに対してListや1次元配列を使用することもできます。"
   ]
  },
  {
   "cell_type": "code",
   "execution_count": null,
   "metadata": {},
   "outputs": [],
   "source": [
    "# axis 0の0番目と2番目を取ってくる\n",
    "print(a[[0, 2]]) # a[0, 2]とは違う"
   ]
  },
  {
   "cell_type": "code",
   "execution_count": null,
   "metadata": {},
   "outputs": [],
   "source": [
    "# axis 1の0番目と2番目を取ってくる\n",
    "print(a[:, [0, 2]]) # : の意味はこの節の後でやります。"
   ]
  },
  {
   "cell_type": "markdown",
   "metadata": {},
   "source": [
    "<img src=\"figures/chap2-4-1.png\"><img src=\"figures/chap2-4-2.png\">"
   ]
  },
  {
   "cell_type": "code",
   "execution_count": null,
   "metadata": {},
   "outputs": [],
   "source": [
    "# 上図\n",
    "# axis 1のインデックスが1に固定されているとき，a[0, 1]とa[2, 1]は次のように取れる\n",
    "print(a[[[0], [2]], 1]) # このとき，axis 0に指定するListや配列はaxis 0と同じ向き(縦向き)にする\n",
    "print(a[[0, 2], 1])\n",
    "\n",
    "#下図\n",
    "# axis 1のインデックスが2に固定されているとき，a[0, 1]とa[0, 3]は次のように取れる\n",
    "print(a[2, [1, 3]]) # このとき，axis 1に指定するListや配列はaxis 1と同じ向き(横向き)にする"
   ]
  },
  {
   "cell_type": "markdown",
   "metadata": {},
   "source": [
    "では，次のように，各軸から複数ずつ取ってくる(=小行列を取ってくる)場合はどのように書くでしょうか？"
   ]
  },
  {
   "cell_type": "markdown",
   "metadata": {},
   "source": [
    "<img src=\"figures/chap2-4-3.png\">"
   ]
  },
  {
   "cell_type": "markdown",
   "metadata": {},
   "source": [
    "さっきと同じように各axisにListや1次元配列を指定すれば良いです。"
   ]
  },
  {
   "cell_type": "code",
   "execution_count": null,
   "metadata": {},
   "outputs": [],
   "source": [
    "print(a[[[0], [2]], [1, 3]]) # このとき，axis 0に指定するListや配列はaxis 0と同じ向き(縦向き)にする"
   ]
  },
  {
   "cell_type": "code",
   "execution_count": null,
   "metadata": {},
   "outputs": [],
   "source": [
    "print(a[[0, 2], [1, 3]]) # こうしてしまうと，a[0, 1], a[2, 3]を取ってきてしまう"
   ]
  },
  {
   "cell_type": "markdown",
   "metadata": {},
   "source": [
    "ここで，`[[[0], [2]], [1, 3]]`というインデックスは非常に読みにくく，打ちたくもないため，`[0, 2], [1, 3]`を引数に与えると`[[[0], [2]], [1, 3]]`を返すような関数`np.ix_()`があります。"
   ]
  },
  {
   "cell_type": "code",
   "execution_count": null,
   "metadata": {},
   "outputs": [],
   "source": [
    "# 以下の2つは同じ\n",
    "print(a[np.ix_([0, 2], [1, 3])])\n",
    "print(a[[[0], [2]], [1, 3]])"
   ]
  },
  {
   "cell_type": "markdown",
   "metadata": {},
   "source": [
    "### 2.4.2 スライシング"
   ]
  },
  {
   "cell_type": "markdown",
   "metadata": {},
   "source": [
    "2次元配列も，各axisにスライスを使うことができます。スライスは`start: end(: step)`と表せましたが，全ての軸を選ぶ場合は`:`というスライスを使います。"
   ]
  },
  {
   "cell_type": "code",
   "execution_count": null,
   "metadata": {
    "scrolled": true
   },
   "outputs": [],
   "source": [
    "# aの0行目から1行目までを取り出す\n",
    "# すなわち， axis 0の選択はスライスでかくと0:2で，axis 1での選択はスライスでかくと: となる\n",
    "print(a[0: 2, :])"
   ]
  },
  {
   "cell_type": "code",
   "execution_count": null,
   "metadata": {},
   "outputs": [],
   "source": [
    "# aの0列目から2列目までを取り出す\n",
    "# すなわち， axis 0の選択はスライスでかくと : で，axis 1での選択はスライスでかくと0: 3となる\n",
    "print(a[:, 0: 3])"
   ]
  },
  {
   "cell_type": "code",
   "execution_count": null,
   "metadata": {},
   "outputs": [],
   "source": [
    "# aの0行目から1行目かつ0列目から2列目を取り出す\n",
    "# すなわち， axis 0の選択はスライスでかくと0: 2で，axis 1での選択はスライスでかくと0: 3となる\n",
    "print(a[0: 2, 0: 3])"
   ]
  },
  {
   "cell_type": "markdown",
   "metadata": {},
   "source": [
    "### 2.4.3 ブールインデックス参照"
   ]
  },
  {
   "cell_type": "markdown",
   "metadata": {},
   "source": [
    "2次元配列でも，indexにbool値を持つ2次元配列を指定することでTrueの部分の値を抜き出すことができます。このとき，インデックスは**同じshape**でなければいけません。"
   ]
  },
  {
   "cell_type": "code",
   "execution_count": null,
   "metadata": {},
   "outputs": [],
   "source": [
    "a = np.array([2, 2, 3, 6, 0, 6, 7, 9]).reshape(2, 4)\n",
    "\n",
    "print(\"a: \", a)\n",
    "# aのうち3の倍数である値を抜き出す\n",
    "idx = (a%3 == 0)\n",
    "print(\"ブールインデックス: \\n\", idx)\n",
    "print(a[idx])"
   ]
  },
  {
   "cell_type": "markdown",
   "metadata": {},
   "source": [
    "また，あるaxisに対してのみブールインデックスを指定することもできます。"
   ]
  },
  {
   "cell_type": "code",
   "execution_count": null,
   "metadata": {
    "scrolled": true
   },
   "outputs": [],
   "source": [
    "print(a[:, [False, True, False, True]]) # axis 1にブールインデックスを指定"
   ]
  },
  {
   "cell_type": "markdown",
   "metadata": {},
   "source": [
    "[2.4.1](2.4.1-基本)でやったように，2つのaxisにブールインデックスを指定して交差した部分を得るには`np.ix_()`関数が使えます。"
   ]
  },
  {
   "cell_type": "code",
   "execution_count": null,
   "metadata": {},
   "outputs": [],
   "source": [
    "print(a[np.ix_([True, True], [True, True, False, True])])"
   ]
  },
  {
   "cell_type": "markdown",
   "metadata": {},
   "source": [
    "### 2.4.4 練習問題"
   ]
  },
  {
   "cell_type": "markdown",
   "metadata": {},
   "source": [
    "**問1**\\\n",
    "(1) 0~99までの100個の連続整数を値にもつ1次元の`np.ndarray`を作成し，shapeが`(10, 10)`の2次元配列となるように整形してください。\\\n",
    "(2) (1)の配列から偶数行目を抜き出したshapeが`(5, 10)`の2次元配列を作成してください。ただし行は0から数えます。\\\n",
    "(3) (1)の配列から奇数列目を抜き出したshapeが`(10, 5)`の2次元配列を作成してください。ただし列は0から数えます。\\\n",
    "(4) (1)の配列から，偶数行目かつ奇数列目にある値を要素にもつshapeが`(5, 5)`の2次元配列を作成してください。ただし行と列は0から数えます。"
   ]
  },
  {
   "cell_type": "markdown",
   "metadata": {},
   "source": [
    "## 2.5 Numpyの発展"
   ]
  },
  {
   "cell_type": "markdown",
   "metadata": {},
   "source": [
    "### 2.5.1 科学定数\n",
    "Numpyでは$\\pi やe$などの科学定数の他に，$\\infty$に対応する`np.inf`があります。"
   ]
  },
  {
   "cell_type": "code",
   "execution_count": null,
   "metadata": {},
   "outputs": [],
   "source": [
    "print(\"円周率: \", np.pi)\n",
    "print(\"ネイピア数: \", np.e)"
   ]
  },
  {
   "cell_type": "code",
   "execution_count": null,
   "metadata": {},
   "outputs": [],
   "source": [
    "print(\"正の無限大: \", np.inf)\n",
    "print(\"負の無限大: \", - np.inf)"
   ]
  },
  {
   "cell_type": "markdown",
   "metadata": {},
   "source": [
    "`np.inf`は四則演算で次のような性質を持ちます。"
   ]
  },
  {
   "cell_type": "code",
   "execution_count": null,
   "metadata": {},
   "outputs": [],
   "source": [
    "print(1 + np.inf)\n",
    "print(1 - np.inf)\n",
    "print(2 * np.inf)\n",
    "print(2 / np.inf)"
   ]
  },
  {
   "cell_type": "markdown",
   "metadata": {},
   "source": [
    "また，条件演算では`a`の値によらず次の性質を持ちます。"
   ]
  },
  {
   "cell_type": "code",
   "execution_count": null,
   "metadata": {},
   "outputs": [],
   "source": [
    "a = 10000000\n",
    "print(a < np.inf)\n",
    "print(- np.inf < a)"
   ]
  },
  {
   "cell_type": "markdown",
   "metadata": {},
   "source": [
    "### 2.5.2 乱数を値にもつNumpyの配列"
   ]
  },
  {
   "cell_type": "markdown",
   "metadata": {},
   "source": [
    "Numpyには乱数を扱うライブラリも持っており，乱数の値を持つ配列を作ることができます。"
   ]
  },
  {
   "cell_type": "code",
   "execution_count": null,
   "metadata": {},
   "outputs": [],
   "source": [
    "from numpy import random"
   ]
  },
  {
   "cell_type": "code",
   "execution_count": null,
   "metadata": {},
   "outputs": [],
   "source": [
    "# [0, 1]上の一様乱数を一つ生成\n",
    "print(random.rand())\n",
    "\n",
    "# 引数にshapeをかくとそのshapeの一様乱数が生成される\n",
    "print(random.rand(5)) # 長さ5(=shapeが(5, ) )の1次元配列\n",
    "print(random.rand(5, 5)) # shapeが(5, 5)の2次元配列　"
   ]
  },
  {
   "cell_type": "markdown",
   "metadata": {},
   "source": [
    "また，`rand()`ではなく`randn()`を使うことで正規分布からサンプリングすることもできます。"
   ]
  },
  {
   "cell_type": "code",
   "execution_count": null,
   "metadata": {},
   "outputs": [],
   "source": [
    "# 標準正規分布(平均0, 分散1)に従う乱数を一つ生成\n",
    "print(random.randn())\n",
    "\n",
    "# 引数にshapeをかくとそのshapeの乱数が生成される\n",
    "print(random.randn(5)) # 長さ5(=shapeが(5, ) )の1次元配列\n",
    "print(random.randn(5, 5)) # shapeが(5, 5)の2次元配列　"
   ]
  },
  {
   "cell_type": "markdown",
   "metadata": {},
   "source": [
    "また，平均と分散を指定したいときは`normal(mean, std, shape)`を使います。"
   ]
  },
  {
   "cell_type": "code",
   "execution_count": null,
   "metadata": {},
   "outputs": [],
   "source": [
    "print(random.normal(100, 10)) # 平均100, 分散10の正規分布に従う乱数\n",
    "print(random.normal(100, 10, 5)) # 平均100, 分散10の正規分布に従う乱数を5つ持つ1次元配列として作成\n",
    "print(random.normal(100, 10, (5, 5))) \n",
    "# 平均100, 分散10の正規分布に従う乱数を値にもつshape (5, 5)の2次元配列として作成"
   ]
  },
  {
   "cell_type": "markdown",
   "metadata": {},
   "source": [
    "また，整数を乱数として生成する`randint`というものもあります。"
   ]
  },
  {
   "cell_type": "code",
   "execution_count": null,
   "metadata": {},
   "outputs": [],
   "source": [
    "print(random.randint(4)) # 0~3の整数を生成\n",
    "print(random.randint(2, 10, (3, 3))) # 2~9の整数をランダムに値にもつshape (3, 3)の2次元配列を生成"
   ]
  },
  {
   "cell_type": "markdown",
   "metadata": {},
   "source": [
    "上の乱数の生成でしたが，毎回実行すると結果が変わっていました。しかし，再現性の観点から発生する乱数を固定したいことがあります。そこでseed(乱数の種)というものを設定するとseedが同じならば同じ乱数が生成されることがわかります。"
   ]
  },
  {
   "cell_type": "code",
   "execution_count": null,
   "metadata": {},
   "outputs": [],
   "source": [
    "random.seed(seed=32) # seedは好きなintで良い\n",
    "\n",
    "# 何回実行しても値は同じ\n",
    "print(random.rand(5))\n",
    "print(random.rand(5))\n",
    "print(random.randint(2, 10, (3, 3)))"
   ]
  },
  {
   "cell_type": "markdown",
   "metadata": {},
   "source": [
    "### 2.5.3 線形代数の基本的な計算"
   ]
  },
  {
   "cell_type": "markdown",
   "metadata": {},
   "source": [
    "線形代数の計算がNumpyの醍醐味の一つでもあります。今回は次の配列を使います。"
   ]
  },
  {
   "cell_type": "code",
   "execution_count": null,
   "metadata": {},
   "outputs": [],
   "source": [
    "x = np.arange(1, 4)\n",
    "y = np.arange(6, 9)\n",
    "A = np.arange(1, 10).reshape(3, 3)\n",
    "B = random.randint(1, 10, (3, 3))\n",
    "\n",
    "print(\"x: \", x)\n",
    "print(\"y: \", y)\n",
    "print(\"A: \", A)\n",
    "print(\"B: \", B)"
   ]
  },
  {
   "cell_type": "markdown",
   "metadata": {},
   "source": [
    "#### 転置"
   ]
  },
  {
   "cell_type": "markdown",
   "metadata": {},
   "source": [
    "転置は2次元配列に対して定義される操作で，`np.transpose()`または`np.ndarray.T`を用いるとできます。"
   ]
  },
  {
   "cell_type": "code",
   "execution_count": null,
   "metadata": {},
   "outputs": [],
   "source": [
    "# 以下の二つは同じ\n",
    "print(np.transpose(A))\n",
    "print(A.T)"
   ]
  },
  {
   "cell_type": "markdown",
   "metadata": {},
   "source": [
    "#### 内積，行列積\n",
    "内積や行列積は`np.dot()`や`np.matmul()`または`@`を使います。これらの違いは話すとかなりレベルが飛躍してしまうので省略します。この講座のレベルでは同じものだと思ってもらって構わないでしょう。ただし，`@`についてはNumpyではなくPython 3.5以降にナイーブに組み込まれた演算子であり，(個人的な意見ですが)まだ`@`の使用は定着している印象を受けません。"
   ]
  },
  {
   "cell_type": "code",
   "execution_count": null,
   "metadata": {},
   "outputs": [],
   "source": [
    "print(\"xとyの内積\")\n",
    "print(np.dot(x, y))\n",
    "print(np.matmul(x, y))\n",
    "print(x@y)\n",
    "\n",
    "print(\"AとBの行列積\")\n",
    "print(np.dot(A, B))\n",
    "print(np.matmul(A, B))\n",
    "print(A@B)"
   ]
  },
  {
   "cell_type": "markdown",
   "metadata": {},
   "source": [
    "以下では`np.matmul()`を用いていくとします。"
   ]
  },
  {
   "cell_type": "code",
   "execution_count": null,
   "metadata": {},
   "outputs": [],
   "source": [
    "# 行列なので積の順番を変えて答えが一致するとは限らない。\n",
    "print(np.matmul(A, B))\n",
    "print(np.matmul(B, A))"
   ]
  },
  {
   "cell_type": "markdown",
   "metadata": {},
   "source": [
    "**ブロードキャスト**\\\n",
    "行列計算にもブロードキャストが行われます，以下の例を見てみましょう。"
   ]
  },
  {
   "cell_type": "code",
   "execution_count": null,
   "metadata": {},
   "outputs": [],
   "source": [
    "# ブロードキャストの簡単な例\n",
    "print(np.matmul(A, x)) # xは縦ベクトルとして解釈される\n",
    "print(np.matmul(x, A)) # xは横ベクトルとして解釈される"
   ]
  },
  {
   "cell_type": "markdown",
   "metadata": {},
   "source": [
    "### *Tips*\n",
    ">ベクトル(1次元配列)において縦ベクトルと横ベクトルを区別したい時が多いので，実際には1次元配列ではなく2次元配列として扱うと便利なことが多いです。例えば，5次元ベクトルを扱うのにshape (5, )の1次元配列ではなくshape (5, 1)の2次元配列とすることによって転置などの操作が可能になります。"
   ]
  },
  {
   "cell_type": "code",
   "execution_count": null,
   "metadata": {},
   "outputs": [],
   "source": [
    "# Tips\n",
    "\n",
    "a = np.array([1, 0, 1, 0, 1])# 5次元ベクトルを表す1次元配列\n",
    "\n",
    "# 転置をする前後で変わらない(axisが一つしかないため)\n",
    "print(\"転置前: \", a)\n",
    "print(\"転置後: \", a.T)\n",
    "\n",
    "# 2次元配列にすると縦ベクトルと横ベクトルが区別できて，わかりやすいことがある\n",
    "\n",
    "# aを横ベクトルの2次元配列にする\n",
    "a = a.reshape(1, -1) # axisを-1にすると要素数を自動で計算してくれる\n",
    "print(\"転置前: \", a)\n",
    "print(\"転置後:\\n \", a.T)"
   ]
  },
  {
   "cell_type": "markdown",
   "metadata": {},
   "source": [
    "#### 線形代数計算ライブラリlinalg"
   ]
  },
  {
   "cell_type": "markdown",
   "metadata": {},
   "source": [
    "Numpyには線形代数に関する諸々の計算ができるように，linalgというパッケージを内包しています。"
   ]
  },
  {
   "cell_type": "code",
   "execution_count": null,
   "metadata": {},
   "outputs": [],
   "source": [
    "from numpy import linalg as LA"
   ]
  },
  {
   "cell_type": "markdown",
   "metadata": {},
   "source": [
    "linalgにある基本的な関数を紹介します。"
   ]
  },
  {
   "cell_type": "code",
   "execution_count": null,
   "metadata": {},
   "outputs": [],
   "source": [
    "# 行列式を求める\n",
    "print(LA.det(A))\n",
    "print(LA.det(B))\n",
    "\n",
    "# 逆行列を求める\n",
    "print(LA.inv(B)) # Aは非正則行列なので逆行列を求めようとするとエラーが出る"
   ]
  },
  {
   "cell_type": "code",
   "execution_count": null,
   "metadata": {},
   "outputs": [],
   "source": [
    "# ノルムを求める \n",
    "# デフォルトではL2ノルム\n",
    "print(LA.norm(x))\n",
    "print(LA.norm(y))\n",
    "\n",
    "# ordという引数を指定するとLpノルムに対応\n",
    "print(LA.norm(x, ord=1))\n",
    "print(LA.norm(y, ord=np.inf)) # ordにnp.infを指定するときちんとL∞ノルムになっている"
   ]
  },
  {
   "cell_type": "markdown",
   "metadata": {},
   "source": [
    "また，この`LA.norm()`関数は集約関数であり，2次元以上の配列を指定すると`axis`を指定することができます。`keepdims`をTrueにすると形状を保ちます。"
   ]
  },
  {
   "cell_type": "code",
   "execution_count": null,
   "metadata": {},
   "outputs": [],
   "source": [
    "print(\"A:\")\n",
    "print(A)\n",
    "\n",
    "print()\n",
    "print(\"keepdims=False(デフォルト)\")\n",
    "print(\"axis=0\", LA.norm(A, axis=0))\n",
    "print(\"axis=1\", LA.norm(A, axis=1))\n",
    "\n",
    "print()\n",
    "print(\"keepdims=True\")\n",
    "print(\"axis=0\")\n",
    "print(LA.norm(A, axis=0, keepdims=True))\n",
    "print(\"axis=1\")\n",
    "print(LA.norm(A, axis=1, keepdims=True))"
   ]
  },
  {
   "cell_type": "markdown",
   "metadata": {},
   "source": [
    "他にもlinalgには固有値や特異値を求めたり，特異値分解やLU分解をはじめとした行列の各種標準形を求めることもできます。"
   ]
  },
  {
   "cell_type": "markdown",
   "metadata": {},
   "source": [
    "## 2.6 Numpyの学習の仕方"
   ]
  },
  {
   "cell_type": "markdown",
   "metadata": {},
   "source": [
    "今回，たくさんのNumpyの機能を紹介してきましたが，これはあくまで氷山の一角です。今日扱った内容を含めて，どの程度まで覚える必要があるのでしょうか？\n",
    "\n",
    "この節では，Numpyとの上手な付き合い方について解説していきます。ここに書いてあることは今後この講座で扱う全てのライブラリに共通することです。特に，Pythonプログラミング初心者に学習の道標を掲げていきたいと思います。"
   ]
  },
  {
   "cell_type": "markdown",
   "metadata": {},
   "source": [
    "### 2.6.1 プログラミングの調べ方"
   ]
  },
  {
   "cell_type": "markdown",
   "metadata": {},
   "source": [
    "まず，Numpyの機能についてどこまで覚える必要があるのか？ということですが，これに関しては自分から覚えるべきことは少ないと思っています。特に，今回の講義だと，1，2次元配列の基本的な扱い方を覚えるだけでよく，他の機能については，**その都度調べればよい**のです。そうすることで，自然とよく使うものは覚える一方，滅多に使わないようなものをたくさん覚える必要もなくなります。実際，プロのエンジニアでも自分が普段扱わない機能については知らないことはたくさんあり，その都度調べています。"
   ]
  },
  {
   "cell_type": "markdown",
   "metadata": {},
   "source": [
    "では，実装したい機能があったときにどのように調べれば良いのでしょうか？今回はNumpyの1次元配列を大きい順にソートするという操作が必要になったという状況を仮定して，調べるまでの手順を追ってみましょう。"
   ]
  },
  {
   "cell_type": "markdown",
   "metadata": {},
   "source": [
    "**手順①** やりたいことの言語化\n",
    ">例: Numpyの配列に対してソートをしたい\n",
    "\n",
    "**手順②** 検索エンジンで検索。このとき，「言語(or ライブラリ名) キーワード1, キーワード2, ...」\\\n",
    "日本語で検索すると日本語の解説記事が出てきます。\n",
    ">例: 「numpy 配列 ソート」で検索をする\n",
    "\n",
    "また，今後エンジニアになりたい人は英語で入力して公式のレファレンスで検索するということを癖づけましょう。これは，いずれあるレベルに達したときに日本語の記事での解説がなかったり誤っていたりすることが少なくないためです。\n",
    ">例: numpy 1.17の[公式リファレンス](https://docs.scipy.org/doc/numpy/reference/)内で「ndarray sort」で検索\n",
    "\n",
    "**手順③** 公式リファレンスをみた場合，引数と戻り値とその定義を確認する\\\n",
    "ここで，自分の実装したい機能が作れそうかわかります。また，多くの場合`example`を載せてくれているのでそこも参考にできます。\n",
    ">例: 公式リファレンスを見ると，いくつか[検索結果](https://docs.scipy.org/doc/numpy/search.html?q=ndarray+sort)が出てきます。一番上のnumpy.ndarray.sortを見ると，ソートするaxisを指定したり，ソートアルゴリズムを選択したりできるようだ。また，`Sort an array in-place. `と書いてあるので，ソート後の配列を出力するわけではなく実行するだけで元の配列がソートされることもわかる。\n",
    "\n",
    "以上を経て，目的の関数にたどり着くことができました。しかし，公式のリファレンスを見るとソートの際は小さい順に並べられて，大きい順にならべるように指定するような引数がないことがすぐにわかるため，小さい順に並べた後，自分で逆順にすればいいということがわかりました。"
   ]
  },
  {
   "cell_type": "code",
   "execution_count": null,
   "metadata": {},
   "outputs": [],
   "source": [
    "a = random.randint(1, 100, (5,))\n",
    "print(a)\n",
    "\n",
    "# 小さい順に並べ替え\n",
    "a.sort() # 実行するだけでaがsortされる\n",
    "# a_sorted = a.sort() これは間違い。a.sort()は何も返さないのでNoneになる。\n",
    "print(a) \n",
    "\n",
    "# スライスを使って逆順にする\n",
    "print(a[: : -1])"
   ]
  },
  {
   "cell_type": "markdown",
   "metadata": {},
   "source": [
    "ある程度慣れてくると，どういうキーワードで計算すれば目的のものに辿り着けるのかわかってくるようになります。また，公式のリファレンスを読んで理解して使うことで，よく使うものは自然に覚えるようになります(日本語の解説記事を毎回コピペしていてはそうはなれません)。"
   ]
  },
  {
   "cell_type": "markdown",
   "metadata": {},
   "source": [
    "### 2.6.2 練習問題"
   ]
  },
  {
   "cell_type": "markdown",
   "metadata": {},
   "source": [
    "**問1**\\\n",
    "(1) 1次元配列に対して，最大値のインデックスを取得する関数を自分で調べて，実行してください。\\\n",
    "(2) 2次元配列のaxis 1の方向で各最大値のインデックスを取得してください。\\\n",
    "(3) 2次元配列の最大値のインデックスの場所が何行何列目かを取得する操作を自分で調べて実装してください。"
   ]
  },
  {
   "cell_type": "code",
   "execution_count": null,
   "metadata": {},
   "outputs": [],
   "source": [
    "# (1)\n",
    "\n",
    "# (2)\n",
    "\n",
    "# (3)"
   ]
  },
  {
   "cell_type": "code",
   "execution_count": null,
   "metadata": {},
   "outputs": [],
   "source": [
    "#(1) \n",
    "#入力例\n",
    "a = np.array([3, 8, 2, 6, 4, 4])\n",
    "# 出力例\n",
    "# 1\n",
    "\n",
    "#(2)\n",
    "# 入力例\n",
    "a = np.array([3, 8, 2, 6, 4, 4]).reshape(2, 3)\n",
    "# 出力例\n",
    "# [[1],\n",
    "#[0]]\n",
    "\n",
    "#(3)\n",
    "# 入力例\n",
    "a = np.array([3, 8, 2, 6, 4, 4]).reshape(2, 3)\n",
    "# 最大値8は(0, 1)成分にある\n",
    "# 出力例\n",
    "# (0, 1)"
   ]
  },
  {
   "cell_type": "markdown",
   "metadata": {},
   "source": [
    "## 2.7 総合問題"
   ]
  },
  {
   "cell_type": "markdown",
   "metadata": {},
   "source": [
    "**問1**\\\n",
    "昨今，深層学習を用いた自然言語処理において，GoogleのTransformerというものをベースとしたモデルがいくつかの自然言語処理タスクで人間越えの精度を出したことで脚光を浴びました。\n",
    "\n",
    "そして，2020年1月にGoogleはそのTransformerの時間計算量と空間計算量を改善した[Reformer](https://arxiv.org/abs/2001.04451)を発表しました。今回は，この論文の中で，Transformerの時間計算量を改善した部分に用いられた[*cross-polytope LSH*](https://arxiv.org/abs/1509.02897)というものを誘導付きで実装してみましょう。"
   ]
  },
  {
   "cell_type": "markdown",
   "metadata": {},
   "source": [
    "いま，次の問題を考えます：\n",
    ">$n$本のベクトルに対して，\"似ている\"ベクトルには同じ整数値を，\"似ていない\"ベクトルには異なる整数値を割り当てられる方法を考えたい。このとき，ベクトルが\"似ている\"とは，ベクトル同士のなす角が0に近いことをいう。\n",
    "\n",
    "この問題は以下の難点があります：\n",
    "- なす角がどれくらい以下になれば似ているとして決めるのか。\n",
    "- ベクトル$a$と$b$, $b$と$c$がそれぞれ\"似ている\"とき，$a$と$c$が\"似ている\"とは限らない。\n",
    "- なす角$\\theta$を求めるには内積とノルムを使えば$\\cos \\theta$を計算できる。この値をソートして整数値をいい感じに割り振れば良さそうだが，基本的にソートは$n$が大きくなると遅い(ベクトルの組合せは$_nC_2$もある)。"
   ]
  },
  {
   "cell_type": "markdown",
   "metadata": {},
   "source": [
    "そこで次の確率的な解法を考えます:\\\n",
    "①全てのベクトルを同じ角度だけ回転する。このときの回転角はランダムに決める。\\ \n",
    "②\"似ている\"ベクトル同士は，回転後も**高確率で**同じ象限にあり，\"似ていない\"ベクトル同士は**高確率で**違う象限にある。\\ \n",
    "③よって，ランダムな回転後のそれぞれのベクトルが属する象限の番号をそのベクトルに割り当てる整数値とすれば**高確率で**問題が解ける。\n",
    "\n",
    "これを実装します。"
   ]
  },
  {
   "cell_type": "markdown",
   "metadata": {},
   "source": [
    "今回は3次元横ベクトルを100本用意したものを考えます。"
   ]
  },
  {
   "cell_type": "code",
   "execution_count": null,
   "metadata": {},
   "outputs": [],
   "source": [
    "A = random.rand(100, 3) # 3次元横ベクトルを100本縦に積み重ねた行列"
   ]
  },
  {
   "cell_type": "markdown",
   "metadata": {},
   "source": [
    "(1) 100本のベクトルを回転させる行列Rを生成し，回転後のベクトルを縦に積み重ねた(100, 3)の行列を求めます。ここでは，ランダムな回転をする行列を，各値が標準正規分布分布に従う行列で代替します。"
   ]
  },
  {
   "cell_type": "code",
   "execution_count": null,
   "metadata": {},
   "outputs": [],
   "source": [
    "# (1)"
   ]
  },
  {
   "cell_type": "markdown",
   "metadata": {},
   "source": [
    "(2) (1)で求めたベクトルは大きさも変わってしまっているため規格化する必要があります．(1)の各ベクトルを，(L2)ノルムが1となるように規格化して，順番を変えないまま縦に積み重ねた(100, 3)の行列を求めてください。"
   ]
  },
  {
   "cell_type": "code",
   "execution_count": null,
   "metadata": {},
   "outputs": [],
   "source": [
    "# (2)"
   ]
  },
  {
   "cell_type": "markdown",
   "metadata": {},
   "source": [
    "(3) (2)で求めたノルム1の100本のベクトルに対して，それらを$-1$倍した100本のベクトルと元の100本のベクトルを，100本の順番を変えないまま**横に**積み重ねた(100, 6)の行列を求めてください。"
   ]
  },
  {
   "cell_type": "code",
   "execution_count": null,
   "metadata": {},
   "outputs": [],
   "source": [
    "# (3)"
   ]
  },
  {
   "cell_type": "markdown",
   "metadata": {},
   "source": [
    "(4)(やや難)いま，3次元空間なので象限は第0〜第7までの8象限あります。ここで，象限を求める代わりに，正規直交基底(標準基底)とその逆向きのベクトル(合わせて6本,適当に番号を振ってよい)のうち最も\"似ている\"ものの番号を求めるとします。回転後のベクトルの番号を格納した(100, 1)の行列を求めてください。\n",
    "(ヒント: ベクトルの割り振る番号を求めるのにどうすればいいかを考える。ここで内積を使うと計算が遅い。わからない人は3次元ではなく，2次元のベクトルについて考えてみよう。ここで，(2)で規格化したことを用いるとよいかも)"
   ]
  },
  {
   "cell_type": "code",
   "execution_count": null,
   "metadata": {},
   "outputs": [],
   "source": [
    "# (4)"
   ]
  },
  {
   "cell_type": "markdown",
   "metadata": {},
   "source": [
    "ここで得られた100個の整数が，100本のベクトルに割り当てられる値となる。\n",
    "\n",
    "(5) (余力のある人)100本のベクトル間の任意の2本のなす角$\\theta$の対して$\\cos \\theta$を計算し，\"似ている\"ベクトル同士は高確率で同じ整数値が割り振られており，\"似ていない\"ベクトル同士は高確率で異なる整数値が割り当てられていることを確認してください。"
   ]
  },
  {
   "cell_type": "code",
   "execution_count": null,
   "metadata": {},
   "outputs": [],
   "source": [
    "# (5)"
   ]
  },
  {
   "cell_type": "code",
   "execution_count": null,
   "metadata": {},
   "outputs": [],
   "source": []
  }
 ],
 "metadata": {
  "kernelspec": {
   "display_name": "gci2020",
   "language": "python",
   "name": "gci2020"
  },
  "language_info": {
   "codemirror_mode": {
    "name": "ipython",
    "version": 3
   },
   "file_extension": ".py",
   "mimetype": "text/x-python",
   "name": "python",
   "nbconvert_exporter": "python",
   "pygments_lexer": "ipython3",
   "version": "3.6.10-final"
  }
 },
 "nbformat": 4,
 "nbformat_minor": 4
}