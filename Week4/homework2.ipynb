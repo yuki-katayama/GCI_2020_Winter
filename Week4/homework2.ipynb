{
  "nbformat": 4,
  "nbformat_minor": 0,
  "metadata": {
    "colab": {
      "name": "Untitled2.ipynb",
      "provenance": []
    },
    "kernelspec": {
      "name": "python3",
      "display_name": "Python 3"
    }
  },
  "cells": [
    {
      "cell_type": "code",
      "metadata": {
        "id": "lo1FhFu8Tj5S"
      },
      "source": [
        "import numpy as np\n",
        "import pandas as pd\n",
        "from pandas import DataFrame\n",
        "# URL\n",
        "url_winequality_data = \"http://archive.ics.uci.edu/ml/machine-learning-databases/wine-quality/winequality-red.csv\""
      ],
      "execution_count": 1,
      "outputs": []
    },
    {
      "cell_type": "code",
      "metadata": {
        "id": "py9bCIB8TmND"
      },
      "source": [
        "# working place. everything \n",
        "def homework(url_winequality_data, n):\n",
        "    d_wq = pd.read_csv(url_winequality_data, sep=';')\n",
        "    df_tsd = d_wq['total sulfur dioxide']\n",
        "    sprt = pd.qcut(df_tsd, n, labels = False)\n",
        "    avr_pH =  d_wq.groupby(sprt)['pH'].mean()\n",
        "    sbm_pH = avr_pH.max() + avr_pH.min()\n",
        "    my_result = float(sbm_pH)\n",
        "    return my_result"
      ],
      "execution_count": 2,
      "outputs": []
    },
    {
      "cell_type": "code",
      "metadata": {
        "id": "lqwf8aRrTmpD",
        "outputId": "ac0d62bf-9885-4ee6-df11-0fd7600af362",
        "colab": {
          "base_uri": "https://localhost:8080/"
        }
      },
      "source": [
        "print(homework(url_winequality_data, 10))"
      ],
      "execution_count": 3,
      "outputs": [
        {
          "output_type": "stream",
          "text": [
            "6.604986413043478\n"
          ],
          "name": "stdout"
        }
      ]
    },
    {
      "cell_type": "code",
      "metadata": {
        "id": "Wjz__Ej1TrUk"
      },
      "source": [
        ""
      ],
      "execution_count": null,
      "outputs": []
    }
  ]
}